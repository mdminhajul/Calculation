{
  "nbformat": 4,
  "nbformat_minor": 0,
  "metadata": {
    "colab": {
      "provenance": [],
      "authorship_tag": "ABX9TyN+GJgsBjJLYEYvYT1Y4JM7",
      "include_colab_link": true
    },
    "kernelspec": {
      "name": "python3",
      "display_name": "Python 3"
    },
    "language_info": {
      "name": "python"
    }
  },
  "cells": [
    {
      "cell_type": "markdown",
      "metadata": {
        "id": "view-in-github",
        "colab_type": "text"
      },
      "source": [
        "<a href=\"https://colab.research.google.com/github/mdminhajul/Calculation/blob/main/Calculation_Assessment_01.ipynb\" target=\"_parent\"><img src=\"https://colab.research.google.com/assets/colab-badge.svg\" alt=\"Open In Colab\"/></a>"
      ]
    },
    {
      "cell_type": "markdown",
      "source": [
        "**Total Products Sale**"
      ],
      "metadata": {
        "id": "5KfFTV_KtXxx"
      }
    },
    {
      "cell_type": "code",
      "execution_count": 20,
      "metadata": {
        "id": "6tcTuX01sof5"
      },
      "outputs": [],
      "source": [
        "def Sales(pen, paper, pencil):\n",
        "  total_products_multiplication = pen * paper * pencil\n",
        "  return total_products_multiplication"
      ]
    },
    {
      "cell_type": "code",
      "source": [
        "print(\"What is the multiplication of product sales?\")\n",
        "print(\"It is: \", Sales(3, 5, 10))"
      ],
      "metadata": {
        "colab": {
          "base_uri": "https://localhost:8080/"
        },
        "id": "Bscrqe_OtzaY",
        "outputId": "ac8ad7a5-efff-4258-efb2-b78807fc073b"
      },
      "execution_count": 22,
      "outputs": [
        {
          "output_type": "stream",
          "name": "stdout",
          "text": [
            "What is the multiplication of product sales?\n",
            "It is:  150\n"
          ]
        }
      ]
    }
  ]
}