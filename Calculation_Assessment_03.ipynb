{
  "nbformat": 4,
  "nbformat_minor": 0,
  "metadata": {
    "colab": {
      "provenance": [],
      "authorship_tag": "ABX9TyMaMBi8yi459sxtj7GAKPlG",
      "include_colab_link": true
    },
    "kernelspec": {
      "name": "python3",
      "display_name": "Python 3"
    },
    "language_info": {
      "name": "python"
    }
  },
  "cells": [
    {
      "cell_type": "markdown",
      "metadata": {
        "id": "view-in-github",
        "colab_type": "text"
      },
      "source": [
        "<a href=\"https://colab.research.google.com/github/mdminhajul/Calculation/blob/main/Calculation_Assessment_03.ipynb\" target=\"_parent\"><img src=\"https://colab.research.google.com/assets/colab-badge.svg\" alt=\"Open In Colab\"/></a>"
      ]
    },
    {
      "cell_type": "markdown",
      "source": [
        "**Division of Products Sale**"
      ],
      "metadata": {
        "id": "5KfFTV_KtXxx"
      }
    },
    {
      "cell_type": "code",
      "execution_count": 27,
      "metadata": {
        "id": "6tcTuX01sof5"
      },
      "outputs": [],
      "source": [
        "def Sales(pen, paper, pencil):\n",
        "  total_products_division = pen / paper / pencil\n",
        "  return total_products_division"
      ]
    },
    {
      "cell_type": "code",
      "source": [
        "print(\"What is the division of product sales?\")\n",
        "print(\"It is: \", Sales(30, 5, 2))"
      ],
      "metadata": {
        "colab": {
          "base_uri": "https://localhost:8080/"
        },
        "id": "Bscrqe_OtzaY",
        "outputId": "def87955-86f4-4cf8-d972-611def144a64"
      },
      "execution_count": 28,
      "outputs": [
        {
          "output_type": "stream",
          "name": "stdout",
          "text": [
            "What is the division of product sales?\n",
            "It is:  3.0\n"
          ]
        }
      ]
    }
  ]
}