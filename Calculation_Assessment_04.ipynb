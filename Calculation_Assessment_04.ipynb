{
  "nbformat": 4,
  "nbformat_minor": 0,
  "metadata": {
    "colab": {
      "provenance": [],
      "authorship_tag": "ABX9TyMowNryvjw9+qYGE2QhFYc7",
      "include_colab_link": true
    },
    "kernelspec": {
      "name": "python3",
      "display_name": "Python 3"
    },
    "language_info": {
      "name": "python"
    }
  },
  "cells": [
    {
      "cell_type": "markdown",
      "metadata": {
        "id": "view-in-github",
        "colab_type": "text"
      },
      "source": [
        "<a href=\"https://colab.research.google.com/github/mdminhajul/Calculation/blob/main/Calculation_Assessment_04.ipynb\" target=\"_parent\"><img src=\"https://colab.research.google.com/assets/colab-badge.svg\" alt=\"Open In Colab\"/></a>"
      ]
    },
    {
      "cell_type": "markdown",
      "source": [
        "**Addition of Product Sales**"
      ],
      "metadata": {
        "id": "5KfFTV_KtXxx"
      }
    },
    {
      "cell_type": "code",
      "execution_count": 33,
      "metadata": {
        "id": "6tcTuX01sof5"
      },
      "outputs": [],
      "source": [
        "def Sales(pen, paper, pencil):\n",
        "  total_products = pen + paper + pencil\n",
        "  return total_products"
      ]
    },
    {
      "cell_type": "code",
      "source": [
        "print(\"What is the addition of product sales?\")\n",
        "print(\"It is: \", Sales(30, 5, 14))"
      ],
      "metadata": {
        "colab": {
          "base_uri": "https://localhost:8080/"
        },
        "id": "Bscrqe_OtzaY",
        "outputId": "ab1fa2c7-c64b-469d-be9e-a7bd4f2cfab5"
      },
      "execution_count": 34,
      "outputs": [
        {
          "output_type": "stream",
          "name": "stdout",
          "text": [
            "What is the addition of product sales?\n",
            "It is:  49\n"
          ]
        }
      ]
    }
  ]
}