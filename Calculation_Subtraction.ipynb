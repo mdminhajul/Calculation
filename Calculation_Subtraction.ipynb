{
  "nbformat": 4,
  "nbformat_minor": 0,
  "metadata": {
    "colab": {
      "provenance": [],
      "authorship_tag": "ABX9TyNZG/JcsibpCYRyYrdEdyHA",
      "include_colab_link": true
    },
    "kernelspec": {
      "name": "python3",
      "display_name": "Python 3"
    },
    "language_info": {
      "name": "python"
    }
  },
  "cells": [
    {
      "cell_type": "markdown",
      "metadata": {
        "id": "view-in-github",
        "colab_type": "text"
      },
      "source": [
        "<a href=\"https://colab.research.google.com/github/mdminhajul/Calculation/blob/main/Calculation_Assessment_02.ipynb\" target=\"_parent\"><img src=\"https://colab.research.google.com/assets/colab-badge.svg\" alt=\"Open In Colab\"/></a>"
      ]
    },
    {
      "cell_type": "markdown",
      "source": [
        "**Subtraction of Product Sales**"
      ],
      "metadata": {
        "id": "5KfFTV_KtXxx"
      }
    },
    {
      "cell_type": "code",
      "execution_count": 23,
      "metadata": {
        "id": "6tcTuX01sof5"
      },
      "outputs": [],
      "source": [
        "def Sales(pen, paper, pencil):\n",
        "  total_products_subtraction = pen - paper - pencil\n",
        "  return total_products_subtraction"
      ]
    },
    {
      "cell_type": "code",
      "source": [
        "print(\"What is the subtraction of product sales?\")\n",
        "print(\"It is: \", Sales(3, 5, 10))"
      ],
      "metadata": {
        "colab": {
          "base_uri": "https://localhost:8080/"
        },
        "id": "Bscrqe_OtzaY",
        "outputId": "1a8ab22b-47ca-40d7-c182-2383ed2d9ee9"
      },
      "execution_count": 24,
      "outputs": [
        {
          "output_type": "stream",
          "name": "stdout",
          "text": [
            "What is the subtraction of product sales?\n",
            "It is:  -12\n"
          ]
        }
      ]
    }
  ]
}
